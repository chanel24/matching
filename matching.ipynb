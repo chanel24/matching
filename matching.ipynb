{
 "cells": [
  {
   "cell_type": "code",
   "execution_count": 56,
   "id": "7ab001e0",
   "metadata": {},
   "outputs": [],
   "source": [
    "import spacy\n",
    "\n",
    "spacy.prefer_gpu()\n",
    "nlp = spacy.load(\"en_core_web_trf\")\n",
    "\n",
    "\n"
   ]
  },
  {
   "cell_type": "code",
   "execution_count": 83,
   "id": "305f16fd",
   "metadata": {},
   "outputs": [],
   "source": [
    "def create_ix(docs):\n",
    "    ix=dict()\n",
    "    for id,content in docs.items():\n",
    "\n",
    "        doc = nlp(content)\n",
    "\n",
    "        for token in doc:\n",
    "            if not token.is_stop and token.tag_ !=\".\" :\n",
    "                lemma = token.lemma_.lower()\n",
    "                if lemma in ix:\n",
    "                    if id in ix[lemma]:\n",
    "                        ix[lemma][id]=(ix[lemma][id][0]+1,len(doc))\n",
    "                    else:\n",
    "                        ix[lemma][id]=(1,len(doc))\n",
    "\n",
    "                else:\n",
    "                    ix[lemma]={id:(1,len(doc))}\n",
    "    for word in ix:\n",
    "        for document in ix[word]:\n",
    "            #tf * idf\n",
    "            ix[word][document]= len(ix[word])/len(docs) * ix[word][document][0]/ix[word][document][1]\n",
    "    return ix"
   ]
  },
  {
   "cell_type": "code",
   "execution_count": 84,
   "id": "748c8e00",
   "metadata": {},
   "outputs": [],
   "source": [
    "#search\n",
    "def search_query(query,ix): \n",
    "    doc = nlp(query)\n",
    "    results={}\n",
    "    for token in doc:\n",
    "        lemma = token.lemma_.lower()\n",
    "        if  lemma in ix:\n",
    "            for id in ix[lemma]:\n",
    "                if id in results:\n",
    "                    results[id]+=ix[lemma][id]\n",
    "                else:\n",
    "                    results[id]=ix[lemma][id]\n",
    "    if len(results) > 0:\n",
    "        return max(results, key=results.get)\n",
    "    else:\n",
    "         return None"
   ]
  },
  {
   "cell_type": "code",
   "execution_count": 88,
   "id": "fbc71432",
   "metadata": {},
   "outputs": [],
   "source": [
    "def match(docs,searches):\n",
    "    ix=create_ix(docs)\n",
    "    matching={}\n",
    "    for id,query in searches.items():\n",
    "        matching[id]=search_query(query,ix)\n",
    "    return matching\n"
   ]
  },
  {
   "cell_type": "code",
   "execution_count": 89,
   "id": "94d285fb",
   "metadata": {},
   "outputs": [
    {
     "data": {
      "text/plain": [
       "{'query1': 'url3', 'query2': 'url2', 'query3': None}"
      ]
     },
     "execution_count": 89,
     "metadata": {},
     "output_type": "execute_result"
    }
   ],
   "source": [
    "docs={\n",
    "\"url1\":\"Apple is looking at buying U.K. startup for $1 billion with a bottle\",\n",
    "\"url2\":\"What is in the bottle? The bottle is in my House. Fuck the startup.\",\n",
    "\"url3\":\"Apple is not a startup.\"\n",
    "}\n",
    "\n",
    "searches={\n",
    "    \"query1\":\"apple\",\n",
    "    \"query2\":\"bottle\",\n",
    "    \"query3\":\"edek\"\n",
    "}\n",
    "\n",
    "match(docs,searches)"
   ]
  },
  {
   "cell_type": "code",
   "execution_count": null,
   "id": "97c0d26f",
   "metadata": {},
   "outputs": [],
   "source": []
  }
 ],
 "metadata": {
  "kernelspec": {
   "display_name": "Python 3 (ipykernel)",
   "language": "python",
   "name": "python3"
  },
  "language_info": {
   "codemirror_mode": {
    "name": "ipython",
    "version": 3
   },
   "file_extension": ".py",
   "mimetype": "text/x-python",
   "name": "python",
   "nbconvert_exporter": "python",
   "pygments_lexer": "ipython3",
   "version": "3.11.5"
  }
 },
 "nbformat": 4,
 "nbformat_minor": 5
}
